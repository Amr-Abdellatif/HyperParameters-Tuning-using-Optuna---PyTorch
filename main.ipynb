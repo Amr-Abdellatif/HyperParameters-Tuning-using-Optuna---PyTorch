{
 "cells": [
  {
   "attachments": {},
   "cell_type": "markdown",
   "metadata": {},
   "source": [
    "# 101 example for basic understanding of OPTUNA"
   ]
  },
  {
   "cell_type": "code",
   "execution_count": 1,
   "metadata": {},
   "outputs": [
    {
     "name": "stderr",
     "output_type": "stream",
     "text": [
      "c:\\Users\\Amr osama abdellatif\\AppData\\Local\\Programs\\Python\\Python310\\lib\\site-packages\\tqdm\\auto.py:22: TqdmWarning: IProgress not found. Please update jupyter and ipywidgets. See https://ipywidgets.readthedocs.io/en/stable/user_install.html\n",
      "  from .autonotebook import tqdm as notebook_tqdm\n",
      "[I 2024-01-23 21:16:21,062] A new study created in memory with name: no-name-53e7d0a7-028f-4cf5-8f85-c81d527834c3\n",
      "[I 2024-01-23 21:16:21,066] Trial 0 finished with value: 87.12331360587231 and parameters: {'x': -7.3339870155187326}. Best is trial 0 with value: 87.12331360587231.\n",
      "[I 2024-01-23 21:16:21,066] Trial 1 finished with value: 30.3413719166416 and parameters: {'x': 7.50830027473463}. Best is trial 1 with value: 30.3413719166416.\n",
      "[I 2024-01-23 21:16:21,066] Trial 2 finished with value: 0.18554171089083965 and parameters: {'x': 2.4307455291594326}. Best is trial 2 with value: 0.18554171089083965.\n",
      "[I 2024-01-23 21:16:21,066] Trial 3 finished with value: 28.965949779409954 and parameters: {'x': -3.382002394965089}. Best is trial 2 with value: 0.18554171089083965.\n",
      "[I 2024-01-23 21:16:21,066] Trial 4 finished with value: 60.68740157591543 and parameters: {'x': 9.790211908280508}. Best is trial 2 with value: 0.18554171089083965.\n",
      "[I 2024-01-23 21:16:21,066] Trial 5 finished with value: 61.94134149063815 and parameters: {'x': -5.870282173508022}. Best is trial 2 with value: 0.18554171089083965.\n",
      "[I 2024-01-23 21:16:21,066] Trial 6 finished with value: 38.97554159774615 and parameters: {'x': -4.243039451881283}. Best is trial 2 with value: 0.18554171089083965.\n",
      "[I 2024-01-23 21:16:21,070] Trial 7 finished with value: 46.58841478733528 and parameters: {'x': 8.825570656533802}. Best is trial 2 with value: 0.18554171089083965.\n",
      "[I 2024-01-23 21:16:21,070] Trial 8 finished with value: 19.36923296418836 and parameters: {'x': 6.401049075412402}. Best is trial 2 with value: 0.18554171089083965.\n",
      "[I 2024-01-23 21:16:21,070] Trial 9 finished with value: 40.236437988169854 and parameters: {'x': 8.343219843909704}. Best is trial 2 with value: 0.18554171089083965.\n",
      "[I 2024-01-23 21:16:21,078] Trial 10 finished with value: 0.03291998988946848 and parameters: {'x': 2.1814386670185506}. Best is trial 10 with value: 0.03291998988946848.\n",
      "[I 2024-01-23 21:16:21,082] Trial 11 finished with value: 0.0259602393029147 and parameters: {'x': 2.1611218151055738}. Best is trial 11 with value: 0.0259602393029147.\n",
      "[I 2024-01-23 21:16:21,086] Trial 12 finished with value: 0.05180820945272197 and parameters: {'x': 1.7723858320474712}. Best is trial 11 with value: 0.0259602393029147.\n",
      "[I 2024-01-23 21:16:21,094] Trial 13 finished with value: 6.854388361435464 and parameters: {'x': -0.6180886847919156}. Best is trial 11 with value: 0.0259602393029147.\n",
      "[I 2024-01-23 21:16:21,098] Trial 14 finished with value: 3.18860138685285 and parameters: {'x': 3.7856655305103613}. Best is trial 11 with value: 0.0259602393029147.\n",
      "[I 2024-01-23 21:16:21,106] Trial 15 finished with value: 142.10795463976 and parameters: {'x': -9.920904103286798}. Best is trial 11 with value: 0.0259602393029147.\n",
      "[I 2024-01-23 21:16:21,110] Trial 16 finished with value: 7.156085509741049 and parameters: {'x': -0.6750860752022634}. Best is trial 11 with value: 0.0259602393029147.\n",
      "[I 2024-01-23 21:16:21,118] Trial 17 finished with value: 6.56428398953783 and parameters: {'x': 4.5620858669330016}. Best is trial 11 with value: 0.0259602393029147.\n",
      "[I 2024-01-23 21:16:21,122] Trial 18 finished with value: 1.6386170100653978 and parameters: {'x': 0.7199152332500016}. Best is trial 11 with value: 0.0259602393029147.\n",
      "[I 2024-01-23 21:16:21,126] Trial 19 finished with value: 15.59025188683748 and parameters: {'x': -1.9484493015407303}. Best is trial 11 with value: 0.0259602393029147.\n",
      "[I 2024-01-23 21:16:21,134] Trial 20 finished with value: 6.511452186523484 and parameters: {'x': 4.551754726952315}. Best is trial 11 with value: 0.0259602393029147.\n",
      "[I 2024-01-23 21:16:21,140] Trial 21 finished with value: 0.08171950278848063 and parameters: {'x': 1.7141337676666224}. Best is trial 11 with value: 0.0259602393029147.\n",
      "[I 2024-01-23 21:16:21,148] Trial 22 finished with value: 0.06842403796600477 and parameters: {'x': 2.261579888305666}. Best is trial 11 with value: 0.0259602393029147.\n",
      "[I 2024-01-23 21:16:21,152] Trial 23 finished with value: 18.407267718646075 and parameters: {'x': 6.290369182092151}. Best is trial 11 with value: 0.0259602393029147.\n",
      "[I 2024-01-23 21:16:21,156] Trial 24 finished with value: 2.064320697375854 and parameters: {'x': 3.4367744072664483}. Best is trial 11 with value: 0.0259602393029147.\n",
      "[I 2024-01-23 21:16:21,164] Trial 25 finished with value: 13.195808715672019 and parameters: {'x': -1.6326035726007895}. Best is trial 11 with value: 0.0259602393029147.\n",
      "[I 2024-01-23 21:16:21,168] Trial 26 finished with value: 1.063673907446696 and parameters: {'x': 0.9686543220400368}. Best is trial 11 with value: 0.0259602393029147.\n",
      "[I 2024-01-23 21:16:21,172] Trial 27 finished with value: 18.100036188070657 and parameters: {'x': 6.254413730241883}. Best is trial 11 with value: 0.0259602393029147.\n",
      "[I 2024-01-23 21:16:21,180] Trial 28 finished with value: 3.0502471157512843 and parameters: {'x': 0.2535043327419091}. Best is trial 11 with value: 0.0259602393029147.\n",
      "[I 2024-01-23 21:16:21,188] Trial 29 finished with value: 21.864940333875477 and parameters: {'x': -2.6759961862554458}. Best is trial 11 with value: 0.0259602393029147.\n",
      "[I 2024-01-23 21:16:21,192] Trial 30 finished with value: 0.9353764660134494 and parameters: {'x': 2.9671486266409364}. Best is trial 11 with value: 0.0259602393029147.\n",
      "[I 2024-01-23 21:16:21,196] Trial 31 finished with value: 0.029759282014902882 and parameters: {'x': 1.8274912117748696}. Best is trial 11 with value: 0.0259602393029147.\n",
      "[I 2024-01-23 21:16:21,204] Trial 32 finished with value: 0.3467104983734549 and parameters: {'x': 1.4111787211950855}. Best is trial 11 with value: 0.0259602393029147.\n",
      "[I 2024-01-23 21:16:21,208] Trial 33 finished with value: 5.605731384540013 and parameters: {'x': 4.367642579558835}. Best is trial 11 with value: 0.0259602393029147.\n",
      "[I 2024-01-23 21:16:21,216] Trial 34 finished with value: 11.129116098719635 and parameters: {'x': 5.336032988254108}. Best is trial 11 with value: 0.0259602393029147.\n",
      "[I 2024-01-23 21:16:21,220] Trial 35 finished with value: 0.39693080924455704 and parameters: {'x': 2.6300244513068973}. Best is trial 11 with value: 0.0259602393029147.\n",
      "[I 2024-01-23 21:16:21,228] Trial 36 finished with value: 6.12066444078645 and parameters: {'x': -0.47399766386034625}. Best is trial 11 with value: 0.0259602393029147.\n",
      "[I 2024-01-23 21:16:21,236] Trial 37 finished with value: 0.022178427239439455 and parameters: {'x': 1.8510757667824358}. Best is trial 37 with value: 0.022178427239439455.\n",
      "[I 2024-01-23 21:16:21,244] Trial 38 finished with value: 48.894027887414616 and parameters: {'x': -4.992426466357341}. Best is trial 37 with value: 0.022178427239439455.\n",
      "[I 2024-01-23 21:16:21,248] Trial 39 finished with value: 13.093983054267072 and parameters: {'x': -1.6185609092935098}. Best is trial 37 with value: 0.022178427239439455.\n",
      "[I 2024-01-23 21:16:21,252] Trial 40 finished with value: 2.5319776590886813 and parameters: {'x': 0.4087810775733336}. Best is trial 37 with value: 0.022178427239439455.\n",
      "[I 2024-01-23 21:16:21,260] Trial 41 finished with value: 0.002378187334805271 and parameters: {'x': 1.9512333378750886}. Best is trial 41 with value: 0.002378187334805271.\n",
      "[I 2024-01-23 21:16:21,264] Trial 42 finished with value: 1.17640054234343 and parameters: {'x': 3.08461999905194}. Best is trial 41 with value: 0.002378187334805271.\n",
      "[I 2024-01-23 21:16:21,272] Trial 43 finished with value: 0.008244837945987928 and parameters: {'x': 2.0908010900044043}. Best is trial 41 with value: 0.002378187334805271.\n",
      "[I 2024-01-23 21:16:21,276] Trial 44 finished with value: 10.712438317236359 and parameters: {'x': 5.2729861468140005}. Best is trial 41 with value: 0.002378187334805271.\n",
      "[I 2024-01-23 21:16:21,300] Trial 45 finished with value: 0.3971378587677961 and parameters: {'x': 1.3698112514747696}. Best is trial 41 with value: 0.002378187334805271.\n",
      "[I 2024-01-23 21:16:21,308] Trial 46 finished with value: 3.001545035271419 and parameters: {'x': 3.7324967634230717}. Best is trial 41 with value: 0.002378187334805271.\n",
      "[I 2024-01-23 21:16:21,316] Trial 47 finished with value: 6.15722880093058 and parameters: {'x': -0.48137639243436414}. Best is trial 41 with value: 0.002378187334805271.\n",
      "[I 2024-01-23 21:16:21,328] Trial 48 finished with value: 30.267067719389747 and parameters: {'x': -3.5015513920520407}. Best is trial 41 with value: 0.002378187334805271.\n",
      "[I 2024-01-23 21:16:21,336] Trial 49 finished with value: 0.501490631340112 and parameters: {'x': 2.70816003229504}. Best is trial 41 with value: 0.002378187334805271.\n",
      "[I 2024-01-23 21:16:21,340] Trial 50 finished with value: 26.523220452559205 and parameters: {'x': 7.1500699463754085}. Best is trial 41 with value: 0.002378187334805271.\n",
      "[I 2024-01-23 21:16:21,348] Trial 51 finished with value: 0.005444577955360159 and parameters: {'x': 1.9262126165570281}. Best is trial 41 with value: 0.002378187334805271.\n",
      "[I 2024-01-23 21:16:21,352] Trial 52 finished with value: 0.00032416282845733525 and parameters: {'x': 2.0180045224445786}. Best is trial 52 with value: 0.00032416282845733525.\n",
      "[I 2024-01-23 21:16:21,356] Trial 53 finished with value: 4.065260413692145 and parameters: {'x': -0.016249095149739823}. Best is trial 52 with value: 0.00032416282845733525.\n",
      "[I 2024-01-23 21:16:21,366] Trial 54 finished with value: 0.8201958113924929 and parameters: {'x': 1.0943533738855464}. Best is trial 52 with value: 0.00032416282845733525.\n",
      "[I 2024-01-23 21:16:21,370] Trial 55 finished with value: 0.05768437565507162 and parameters: {'x': 2.240175718287823}. Best is trial 52 with value: 0.00032416282845733525.\n",
      "[I 2024-01-23 21:16:21,378] Trial 56 finished with value: 3.856648659769078 and parameters: {'x': 3.9638351916006287}. Best is trial 52 with value: 0.00032416282845733525.\n",
      "[I 2024-01-23 21:16:21,382] Trial 57 finished with value: 7.986367423797223 and parameters: {'x': 4.826016175430923}. Best is trial 52 with value: 0.00032416282845733525.\n",
      "[I 2024-01-23 21:16:21,386] Trial 58 finished with value: 108.6906480463184 and parameters: {'x': -8.425480710562866}. Best is trial 52 with value: 0.00032416282845733525.\n",
      "[I 2024-01-23 21:16:21,394] Trial 59 finished with value: 10.613681862404455 and parameters: {'x': -1.257864616954556}. Best is trial 52 with value: 0.00032416282845733525.\n",
      "[I 2024-01-23 21:16:21,398] Trial 60 finished with value: 1.675146418122049 and parameters: {'x': 0.7057255244261174}. Best is trial 52 with value: 0.00032416282845733525.\n",
      "[I 2024-01-23 21:16:21,402] Trial 61 finished with value: 0.10001169147988033 and parameters: {'x': 1.683753748670628}. Best is trial 52 with value: 0.00032416282845733525.\n",
      "[I 2024-01-23 21:16:21,410] Trial 62 finished with value: 0.02823887096756298 and parameters: {'x': 1.8319557469963255}. Best is trial 52 with value: 0.00032416282845733525.\n",
      "[I 2024-01-23 21:16:21,414] Trial 63 finished with value: 1.5563808010232985 and parameters: {'x': 3.247549919251049}. Best is trial 52 with value: 0.00032416282845733525.\n",
      "[I 2024-01-23 21:16:21,418] Trial 64 finished with value: 0.15974952102603118 and parameters: {'x': 2.39968677864802}. Best is trial 52 with value: 0.00032416282845733525.\n",
      "[I 2024-01-23 21:16:21,426] Trial 65 finished with value: 3.3530464739981514 and parameters: {'x': 0.1688674340730676}. Best is trial 52 with value: 0.00032416282845733525.\n",
      "[I 2024-01-23 21:16:21,430] Trial 66 finished with value: 3.1111728074015454 and parameters: {'x': 3.763851696544113}. Best is trial 52 with value: 0.00032416282845733525.\n",
      "[I 2024-01-23 21:16:21,438] Trial 67 finished with value: 0.9644501378171726 and parameters: {'x': 1.0179357771422621}. Best is trial 52 with value: 0.00032416282845733525.\n",
      "[I 2024-01-23 21:16:21,446] Trial 68 finished with value: 0.007245651748869208 and parameters: {'x': 1.9148786058098834}. Best is trial 52 with value: 0.00032416282845733525.\n",
      "[I 2024-01-23 21:16:21,450] Trial 69 finished with value: 9.414909369200348 and parameters: {'x': -1.0683724300026471}. Best is trial 52 with value: 0.00032416282845733525.\n",
      "[I 2024-01-23 21:16:21,454] Trial 70 finished with value: 0.9538012027927031 and parameters: {'x': 2.9766274636690815}. Best is trial 52 with value: 0.00032416282845733525.\n",
      "[I 2024-01-23 21:16:21,462] Trial 71 finished with value: 0.0007304198482291687 and parameters: {'x': 1.9729737193045516}. Best is trial 52 with value: 0.00032416282845733525.\n",
      "[I 2024-01-23 21:16:21,466] Trial 72 finished with value: 0.039473542001263295 and parameters: {'x': 2.1986794956739706}. Best is trial 52 with value: 0.00032416282845733525.\n",
      "[I 2024-01-23 21:16:21,474] Trial 73 finished with value: 4.7297485762804605 and parameters: {'x': -0.1747985139503061}. Best is trial 52 with value: 0.00032416282845733525.\n",
      "[I 2024-01-23 21:16:21,482] Trial 74 finished with value: 1.6607286480028574 and parameters: {'x': 0.7113073880855616}. Best is trial 52 with value: 0.00032416282845733525.\n",
      "[I 2024-01-23 21:16:21,486] Trial 75 finished with value: 0.13064794098733712 and parameters: {'x': 1.6385474567978016}. Best is trial 52 with value: 0.00032416282845733525.\n",
      "[I 2024-01-23 21:16:21,490] Trial 76 finished with value: 1.3953443737131634 and parameters: {'x': 3.1812469571233457}. Best is trial 52 with value: 0.00032416282845733525.\n",
      "[I 2024-01-23 21:16:21,498] Trial 77 finished with value: 13.039776151337207 and parameters: {'x': 5.611063022343588}. Best is trial 52 with value: 0.00032416282845733525.\n",
      "[I 2024-01-23 21:16:21,502] Trial 78 finished with value: 5.2058512326814865 and parameters: {'x': 4.28163345712704}. Best is trial 52 with value: 0.00032416282845733525.\n",
      "[I 2024-01-23 21:16:21,510] Trial 79 finished with value: 0.46294419527566294 and parameters: {'x': 2.6804000259227383}. Best is trial 52 with value: 0.00032416282845733525.\n",
      "[I 2024-01-23 21:16:21,514] Trial 80 finished with value: 59.41561773982093 and parameters: {'x': 9.708152680105716}. Best is trial 52 with value: 0.00032416282845733525.\n",
      "[I 2024-01-23 21:16:21,519] Trial 81 finished with value: 0.0001490765471477884 and parameters: {'x': 1.9877903092935247}. Best is trial 81 with value: 0.0001490765471477884.\n",
      "[I 2024-01-23 21:16:21,524] Trial 82 finished with value: 0.4102618672201822 and parameters: {'x': 1.3594831249528376}. Best is trial 81 with value: 0.0001490765471477884.\n",
      "[I 2024-01-23 21:16:21,528] Trial 83 finished with value: 0.0439030407180468 and parameters: {'x': 2.209530524549639}. Best is trial 81 with value: 0.0001490765471477884.\n",
      "[I 2024-01-23 21:16:21,532] Trial 84 finished with value: 2.1225398353794733 and parameters: {'x': 0.5431061001639572}. Best is trial 81 with value: 0.0001490765471477884.\n",
      "[I 2024-01-23 21:16:21,536] Trial 85 finished with value: 0.003085827335467273 and parameters: {'x': 2.05555022354111}. Best is trial 81 with value: 0.0001490765471477884.\n",
      "[I 2024-01-23 21:16:21,544] Trial 86 finished with value: 2.16458201599303 and parameters: {'x': 3.4712518533524537}. Best is trial 81 with value: 0.0001490765471477884.\n",
      "[I 2024-01-23 21:16:21,548] Trial 87 finished with value: 0.598614833151143 and parameters: {'x': 1.2262979687559667}. Best is trial 81 with value: 0.0001490765471477884.\n",
      "[I 2024-01-23 21:16:21,552] Trial 88 finished with value: 0.44024392883044944 and parameters: {'x': 2.6635088008688728}. Best is trial 81 with value: 0.0001490765471477884.\n",
      "[I 2024-01-23 21:16:21,560] Trial 89 finished with value: 0.0015291936505015184 and parameters: {'x': 1.9608950942911056}. Best is trial 81 with value: 0.0001490765471477884.\n",
      "[I 2024-01-23 21:16:21,564] Trial 90 finished with value: 4.659501604416228 and parameters: {'x': 4.158587872757611}. Best is trial 81 with value: 0.0001490765471477884.\n",
      "[I 2024-01-23 21:16:21,568] Trial 91 finished with value: 0.013198024713993787 and parameters: {'x': 2.1148826562801966}. Best is trial 81 with value: 0.0001490765471477884.\n",
      "[I 2024-01-23 21:16:21,576] Trial 92 finished with value: 0.001005866708053684 and parameters: {'x': 2.0317154017482624}. Best is trial 81 with value: 0.0001490765471477884.\n",
      "[I 2024-01-23 21:16:21,580] Trial 93 finished with value: 2.1310319917847504 and parameters: {'x': 3.459805463678209}. Best is trial 81 with value: 0.0001490765471477884.\n",
      "[I 2024-01-23 21:16:21,584] Trial 94 finished with value: 1.037231010798739 and parameters: {'x': 0.9815546107921451}. Best is trial 81 with value: 0.0001490765471477884.\n",
      "[I 2024-01-23 21:16:21,588] Trial 95 finished with value: 0.5352743062008188 and parameters: {'x': 2.731624429745767}. Best is trial 81 with value: 0.0001490765471477884.\n",
      "[I 2024-01-23 21:16:21,596] Trial 96 finished with value: 2.8811357560784994 and parameters: {'x': 0.3026091327927738}. Best is trial 81 with value: 0.0001490765471477884.\n",
      "[I 2024-01-23 21:16:21,600] Trial 97 finished with value: 0.21027663229413238 and parameters: {'x': 1.541440699261118}. Best is trial 81 with value: 0.0001490765471477884.\n",
      "[I 2024-01-23 21:16:21,604] Trial 98 finished with value: 5.084640585352337 and parameters: {'x': -0.25491476232524946}. Best is trial 81 with value: 0.0001490765471477884.\n",
      "[I 2024-01-23 21:16:21,612] Trial 99 finished with value: 0.03133895478095488 and parameters: {'x': 2.177028118616662}. Best is trial 81 with value: 0.0001490765471477884.\n"
     ]
    },
    {
     "data": {
      "text/plain": [
       "{'x': 1.9877903092935247}"
      ]
     },
     "execution_count": 1,
     "metadata": {},
     "output_type": "execute_result"
    }
   ],
   "source": [
    "\n",
    "import optuna\n",
    "\n",
    "def objective(trial):\n",
    "    x = trial.suggest_float('x', -10, 10)\n",
    "    return (x - 2) ** 2\n",
    "\n",
    "study = optuna.create_study()\n",
    "study.optimize(objective, n_trials=100)\n",
    "\n",
    "study.best_params  # E.g. {'x': 2.002108042}"
   ]
  },
  {
   "attachments": {},
   "cell_type": "markdown",
   "metadata": {},
   "source": [
    "# Baseline Grid search for model with MNSIT dataset - PyTorch"
   ]
  },
  {
   "cell_type": "code",
   "execution_count": null,
   "metadata": {},
   "outputs": [],
   "source": [
    "\"\"\"Optuna example that optimizes multi-layer perceptrons using PyTorch.\n",
    "\n",
    "In this example, we optimize the validation accuracy of fashion product recognition using\n",
    "PyTorch and FashionMNIST. We optimize the neural network architecture as well as the optimizer\n",
    "configuration. As it is too time consuming to use the whole FashionMNIST dataset,\n",
    "we here use a small subset of it.\n",
    "\n",
    "\"\"\"\n",
    "import os\n",
    "import optuna\n",
    "from optuna.trial import TrialState\n",
    "import torch\n",
    "import torch.nn as nn\n",
    "import torch.nn.functional as F\n",
    "import torch.optim as optim\n",
    "import torch.utils.data\n",
    "from torchvision import datasets\n",
    "from torchvision import transforms\n",
    "\n",
    "\n",
    "DEVICE = 'cuda' if torch.cuda.is_available() else 'cpu'\n",
    "BATCHSIZE = 128\n",
    "CLASSES = 10\n",
    "DIR = os.getcwd()\n",
    "EPOCHS = 10\n",
    "N_TRAIN_EXAMPLES = BATCHSIZE * 30\n",
    "N_VALID_EXAMPLES = BATCHSIZE * 10\n"
   ]
  },
  {
   "cell_type": "code",
   "execution_count": null,
   "metadata": {},
   "outputs": [],
   "source": [
    "def define_model(trial):\n",
    "    # We optimize the number of layers, hidden units and dropout ratio in each layer.\n",
    "    n_layers = trial.suggest_int(\"n_layers\", 1, 3)\n",
    "    layers = []\n",
    "\n",
    "    in_features = 28 * 28\n",
    "    for i in range(n_layers):\n",
    "        out_features = trial.suggest_int(\"n_units_l{}\".format(i), 4, 128)\n",
    "        layers.append(nn.Linear(in_features, out_features))\n",
    "        layers.append(nn.ReLU())\n",
    "        p = trial.suggest_float(\"dropout_l{}\".format(i), 0.2, 0.5)\n",
    "        layers.append(nn.Dropout(p))\n",
    "\n",
    "        in_features = out_features\n",
    "    layers.append(nn.Linear(in_features, CLASSES))\n",
    "    layers.append(nn.LogSoftmax(dim=1))\n",
    "\n",
    "    return nn.Sequential(*layers)\n",
    "\n",
    "\n",
    "def get_mnist():\n",
    "    # Load FashionMNIST dataset.\n",
    "    train_loader = torch.utils.data.DataLoader(\n",
    "        datasets.FashionMNIST(DIR, train=True, download=True, transform=transforms.ToTensor()),\n",
    "        batch_size=BATCHSIZE,\n",
    "        shuffle=True,\n",
    "    )\n",
    "    valid_loader = torch.utils.data.DataLoader(\n",
    "        datasets.FashionMNIST(DIR, train=False, transform=transforms.ToTensor()),\n",
    "        batch_size=BATCHSIZE,\n",
    "        shuffle=True,\n",
    "    )\n",
    "\n",
    "    return train_loader, valid_loader\n",
    "\n",
    "\n",
    "def objective(trial):\n",
    "    # Generate the model.\n",
    "    model = define_model(trial).to(DEVICE)\n",
    "\n",
    "    # Generate the optimizers.\n",
    "    optimizer_name = trial.suggest_categorical(\"optimizer\", [\"Adam\", \"RMSprop\", \"SGD\"])\n",
    "    lr = trial.suggest_float(\"lr\", 1e-5, 1e-1, log=True)\n",
    "    optimizer = getattr(optim, optimizer_name)(model.parameters(), lr=lr)\n",
    "\n",
    "    # Get the FashionMNIST dataset.\n",
    "    train_loader, valid_loader = get_mnist()\n",
    "\n",
    "    # Training of the model.\n",
    "    for epoch in range(EPOCHS):\n",
    "        model.train()\n",
    "        for batch_idx, (data, target) in enumerate(train_loader):\n",
    "            # Limiting training data for faster epochs.\n",
    "            if batch_idx * BATCHSIZE >= N_TRAIN_EXAMPLES:\n",
    "                break\n",
    "\n",
    "            data, target = data.view(data.size(0), -1).to(DEVICE), target.to(DEVICE)\n",
    "\n",
    "            optimizer.zero_grad()\n",
    "            output = model(data)\n",
    "            loss = F.nll_loss(output, target)\n",
    "            loss.backward()\n",
    "            optimizer.step()\n",
    "\n",
    "        # Validation of the model.\n",
    "        model.eval()\n",
    "        correct = 0\n",
    "        with torch.no_grad():\n",
    "            for batch_idx, (data, target) in enumerate(valid_loader):\n",
    "                # Limiting validation data.\n",
    "                if batch_idx * BATCHSIZE >= N_VALID_EXAMPLES:\n",
    "                    break\n",
    "                data, target = data.view(data.size(0), -1).to(DEVICE), target.to(DEVICE)\n",
    "                output = model(data)\n",
    "                # Get the index of the max log-probability.\n",
    "                pred = output.argmax(dim=1, keepdim=True)\n",
    "                correct += pred.eq(target.view_as(pred)).sum().item()\n",
    "\n",
    "        accuracy = correct / min(len(valid_loader.dataset), N_VALID_EXAMPLES)\n",
    "\n",
    "        trial.report(accuracy, epoch)\n",
    "\n",
    "        # Handle pruning based on the intermediate value.\n",
    "        if trial.should_prune():\n",
    "            raise optuna.exceptions.TrialPruned()\n",
    "\n",
    "    return accuracy\n"
   ]
  },
  {
   "cell_type": "code",
   "execution_count": 1,
   "metadata": {},
   "outputs": [
    {
     "name": "stderr",
     "output_type": "stream",
     "text": [
      "c:\\Users\\Amr osama abdellatif\\AppData\\Local\\Programs\\Python\\Python310\\lib\\site-packages\\tqdm\\auto.py:22: TqdmWarning: IProgress not found. Please update jupyter and ipywidgets. See https://ipywidgets.readthedocs.io/en/stable/user_install.html\n",
      "  from .autonotebook import tqdm as notebook_tqdm\n",
      "[I 2024-01-23 22:48:34,761] A new study created in memory with name: no-name-2ac8fca7-5517-4dad-8a30-68e814974fae\n",
      "[I 2024-01-23 22:48:42,344] Trial 0 finished with value: 0.4578125 and parameters: {'n_layers': 3, 'n_units_l0': 79, 'dropout_l0': 0.25549339336102284, 'n_units_l1': 114, 'dropout_l1': 0.49656211917237564, 'n_units_l2': 6, 'dropout_l2': 0.25317175001585807, 'optimizer': 'SGD', 'lr': 0.03832727259290079}. Best is trial 0 with value: 0.4578125.\n",
      "[I 2024-01-23 22:48:47,747] Trial 1 finished with value: 0.70078125 and parameters: {'n_layers': 1, 'n_units_l0': 112, 'dropout_l0': 0.2274308559142771, 'optimizer': 'SGD', 'lr': 0.024002382065435257}. Best is trial 1 with value: 0.70078125.\n",
      "[I 2024-01-23 22:48:53,844] Trial 2 finished with value: 0.71875 and parameters: {'n_layers': 1, 'n_units_l0': 109, 'dropout_l0': 0.48232457124827344, 'optimizer': 'RMSprop', 'lr': 0.030770046657483032}. Best is trial 2 with value: 0.71875.\n",
      "[I 2024-01-23 22:49:00,018] Trial 3 finished with value: 0.6265625 and parameters: {'n_layers': 3, 'n_units_l0': 79, 'dropout_l0': 0.46882201614400026, 'n_units_l1': 65, 'dropout_l1': 0.24855497339227267, 'n_units_l2': 115, 'dropout_l2': 0.46004072242312655, 'optimizer': 'RMSprop', 'lr': 9.07644023629897e-05}. Best is trial 2 with value: 0.71875.\n",
      "[I 2024-01-23 22:49:06,494] Trial 4 finished with value: 0.82421875 and parameters: {'n_layers': 1, 'n_units_l0': 89, 'dropout_l0': 0.2795510232854767, 'optimizer': 'Adam', 'lr': 0.0025627607615811387}. Best is trial 4 with value: 0.82421875.\n"
     ]
    },
    {
     "name": "stdout",
     "output_type": "stream",
     "text": [
      "Study statistics: \n",
      "  Number of finished trials:  5\n",
      "  Number of pruned trials:  0\n",
      "  Number of complete trials:  5\n",
      "Best trial:\n",
      "  Value:  0.82421875\n",
      "  Params: \n",
      "    n_layers: 1\n",
      "    n_units_l0: 89\n",
      "    dropout_l0: 0.2795510232854767\n",
      "    optimizer: Adam\n",
      "    lr: 0.0025627607615811387\n"
     ]
    }
   ],
   "source": [
    "study = optuna.create_study(direction=\"maximize\")\n",
    "study.optimize(objective, n_trials=100, timeout=600)\n",
    "\n",
    "pruned_trials = study.get_trials(deepcopy=False, states=[TrialState.PRUNED])\n",
    "complete_trials = study.get_trials(deepcopy=False, states=[TrialState.COMPLETE])\n",
    "\n",
    "print(\"Study statistics: \")\n",
    "print(\"  Number of finished trials: \", len(study.trials))\n",
    "print(\"  Number of pruned trials: \", len(pruned_trials))\n",
    "print(\"  Number of complete trials: \", len(complete_trials))\n",
    "\n",
    "print(\"Best trial:\")\n",
    "trial = study.best_trial\n",
    "\n",
    "print(\"  Value: \", trial.value)\n",
    "\n",
    "print(\"  Params: \")\n",
    "for key, value in trial.params.items():\n",
    "    print(\"    {}: {}\".format(key, value))"
   ]
  },
  {
   "cell_type": "code",
   "execution_count": 2,
   "metadata": {},
   "outputs": [
    {
     "data": {
      "application/vnd.plotly.v1+json": {
       "config": {
        "plotlyServerURL": "https://plot.ly"
       },
       "data": [
        {
         "mode": "markers",
         "name": "Objective Value",
         "type": "scatter",
         "x": [
          0,
          1,
          2,
          3,
          4
         ],
         "y": [
          0.4578125,
          0.70078125,
          0.71875,
          0.6265625,
          0.82421875
         ]
        },
        {
         "mode": "lines",
         "name": "Best Value",
         "type": "scatter",
         "x": [
          0,
          1,
          2,
          3,
          4
         ],
         "y": [
          0.4578125,
          0.70078125,
          0.71875,
          0.71875,
          0.82421875
         ]
        },
        {
         "marker": {
          "color": "#cccccc"
         },
         "mode": "markers",
         "name": "Infeasible Trial",
         "showlegend": false,
         "type": "scatter",
         "x": [],
         "y": []
        }
       ],
       "layout": {
        "template": {
         "data": {
          "bar": [
           {
            "error_x": {
             "color": "#2a3f5f"
            },
            "error_y": {
             "color": "#2a3f5f"
            },
            "marker": {
             "line": {
              "color": "#E5ECF6",
              "width": 0.5
             },
             "pattern": {
              "fillmode": "overlay",
              "size": 10,
              "solidity": 0.2
             }
            },
            "type": "bar"
           }
          ],
          "barpolar": [
           {
            "marker": {
             "line": {
              "color": "#E5ECF6",
              "width": 0.5
             },
             "pattern": {
              "fillmode": "overlay",
              "size": 10,
              "solidity": 0.2
             }
            },
            "type": "barpolar"
           }
          ],
          "carpet": [
           {
            "aaxis": {
             "endlinecolor": "#2a3f5f",
             "gridcolor": "white",
             "linecolor": "white",
             "minorgridcolor": "white",
             "startlinecolor": "#2a3f5f"
            },
            "baxis": {
             "endlinecolor": "#2a3f5f",
             "gridcolor": "white",
             "linecolor": "white",
             "minorgridcolor": "white",
             "startlinecolor": "#2a3f5f"
            },
            "type": "carpet"
           }
          ],
          "choropleth": [
           {
            "colorbar": {
             "outlinewidth": 0,
             "ticks": ""
            },
            "type": "choropleth"
           }
          ],
          "contour": [
           {
            "colorbar": {
             "outlinewidth": 0,
             "ticks": ""
            },
            "colorscale": [
             [
              0,
              "#0d0887"
             ],
             [
              0.1111111111111111,
              "#46039f"
             ],
             [
              0.2222222222222222,
              "#7201a8"
             ],
             [
              0.3333333333333333,
              "#9c179e"
             ],
             [
              0.4444444444444444,
              "#bd3786"
             ],
             [
              0.5555555555555556,
              "#d8576b"
             ],
             [
              0.6666666666666666,
              "#ed7953"
             ],
             [
              0.7777777777777778,
              "#fb9f3a"
             ],
             [
              0.8888888888888888,
              "#fdca26"
             ],
             [
              1,
              "#f0f921"
             ]
            ],
            "type": "contour"
           }
          ],
          "contourcarpet": [
           {
            "colorbar": {
             "outlinewidth": 0,
             "ticks": ""
            },
            "type": "contourcarpet"
           }
          ],
          "heatmap": [
           {
            "colorbar": {
             "outlinewidth": 0,
             "ticks": ""
            },
            "colorscale": [
             [
              0,
              "#0d0887"
             ],
             [
              0.1111111111111111,
              "#46039f"
             ],
             [
              0.2222222222222222,
              "#7201a8"
             ],
             [
              0.3333333333333333,
              "#9c179e"
             ],
             [
              0.4444444444444444,
              "#bd3786"
             ],
             [
              0.5555555555555556,
              "#d8576b"
             ],
             [
              0.6666666666666666,
              "#ed7953"
             ],
             [
              0.7777777777777778,
              "#fb9f3a"
             ],
             [
              0.8888888888888888,
              "#fdca26"
             ],
             [
              1,
              "#f0f921"
             ]
            ],
            "type": "heatmap"
           }
          ],
          "heatmapgl": [
           {
            "colorbar": {
             "outlinewidth": 0,
             "ticks": ""
            },
            "colorscale": [
             [
              0,
              "#0d0887"
             ],
             [
              0.1111111111111111,
              "#46039f"
             ],
             [
              0.2222222222222222,
              "#7201a8"
             ],
             [
              0.3333333333333333,
              "#9c179e"
             ],
             [
              0.4444444444444444,
              "#bd3786"
             ],
             [
              0.5555555555555556,
              "#d8576b"
             ],
             [
              0.6666666666666666,
              "#ed7953"
             ],
             [
              0.7777777777777778,
              "#fb9f3a"
             ],
             [
              0.8888888888888888,
              "#fdca26"
             ],
             [
              1,
              "#f0f921"
             ]
            ],
            "type": "heatmapgl"
           }
          ],
          "histogram": [
           {
            "marker": {
             "pattern": {
              "fillmode": "overlay",
              "size": 10,
              "solidity": 0.2
             }
            },
            "type": "histogram"
           }
          ],
          "histogram2d": [
           {
            "colorbar": {
             "outlinewidth": 0,
             "ticks": ""
            },
            "colorscale": [
             [
              0,
              "#0d0887"
             ],
             [
              0.1111111111111111,
              "#46039f"
             ],
             [
              0.2222222222222222,
              "#7201a8"
             ],
             [
              0.3333333333333333,
              "#9c179e"
             ],
             [
              0.4444444444444444,
              "#bd3786"
             ],
             [
              0.5555555555555556,
              "#d8576b"
             ],
             [
              0.6666666666666666,
              "#ed7953"
             ],
             [
              0.7777777777777778,
              "#fb9f3a"
             ],
             [
              0.8888888888888888,
              "#fdca26"
             ],
             [
              1,
              "#f0f921"
             ]
            ],
            "type": "histogram2d"
           }
          ],
          "histogram2dcontour": [
           {
            "colorbar": {
             "outlinewidth": 0,
             "ticks": ""
            },
            "colorscale": [
             [
              0,
              "#0d0887"
             ],
             [
              0.1111111111111111,
              "#46039f"
             ],
             [
              0.2222222222222222,
              "#7201a8"
             ],
             [
              0.3333333333333333,
              "#9c179e"
             ],
             [
              0.4444444444444444,
              "#bd3786"
             ],
             [
              0.5555555555555556,
              "#d8576b"
             ],
             [
              0.6666666666666666,
              "#ed7953"
             ],
             [
              0.7777777777777778,
              "#fb9f3a"
             ],
             [
              0.8888888888888888,
              "#fdca26"
             ],
             [
              1,
              "#f0f921"
             ]
            ],
            "type": "histogram2dcontour"
           }
          ],
          "mesh3d": [
           {
            "colorbar": {
             "outlinewidth": 0,
             "ticks": ""
            },
            "type": "mesh3d"
           }
          ],
          "parcoords": [
           {
            "line": {
             "colorbar": {
              "outlinewidth": 0,
              "ticks": ""
             }
            },
            "type": "parcoords"
           }
          ],
          "pie": [
           {
            "automargin": true,
            "type": "pie"
           }
          ],
          "scatter": [
           {
            "fillpattern": {
             "fillmode": "overlay",
             "size": 10,
             "solidity": 0.2
            },
            "type": "scatter"
           }
          ],
          "scatter3d": [
           {
            "line": {
             "colorbar": {
              "outlinewidth": 0,
              "ticks": ""
             }
            },
            "marker": {
             "colorbar": {
              "outlinewidth": 0,
              "ticks": ""
             }
            },
            "type": "scatter3d"
           }
          ],
          "scattercarpet": [
           {
            "marker": {
             "colorbar": {
              "outlinewidth": 0,
              "ticks": ""
             }
            },
            "type": "scattercarpet"
           }
          ],
          "scattergeo": [
           {
            "marker": {
             "colorbar": {
              "outlinewidth": 0,
              "ticks": ""
             }
            },
            "type": "scattergeo"
           }
          ],
          "scattergl": [
           {
            "marker": {
             "colorbar": {
              "outlinewidth": 0,
              "ticks": ""
             }
            },
            "type": "scattergl"
           }
          ],
          "scattermapbox": [
           {
            "marker": {
             "colorbar": {
              "outlinewidth": 0,
              "ticks": ""
             }
            },
            "type": "scattermapbox"
           }
          ],
          "scatterpolar": [
           {
            "marker": {
             "colorbar": {
              "outlinewidth": 0,
              "ticks": ""
             }
            },
            "type": "scatterpolar"
           }
          ],
          "scatterpolargl": [
           {
            "marker": {
             "colorbar": {
              "outlinewidth": 0,
              "ticks": ""
             }
            },
            "type": "scatterpolargl"
           }
          ],
          "scatterternary": [
           {
            "marker": {
             "colorbar": {
              "outlinewidth": 0,
              "ticks": ""
             }
            },
            "type": "scatterternary"
           }
          ],
          "surface": [
           {
            "colorbar": {
             "outlinewidth": 0,
             "ticks": ""
            },
            "colorscale": [
             [
              0,
              "#0d0887"
             ],
             [
              0.1111111111111111,
              "#46039f"
             ],
             [
              0.2222222222222222,
              "#7201a8"
             ],
             [
              0.3333333333333333,
              "#9c179e"
             ],
             [
              0.4444444444444444,
              "#bd3786"
             ],
             [
              0.5555555555555556,
              "#d8576b"
             ],
             [
              0.6666666666666666,
              "#ed7953"
             ],
             [
              0.7777777777777778,
              "#fb9f3a"
             ],
             [
              0.8888888888888888,
              "#fdca26"
             ],
             [
              1,
              "#f0f921"
             ]
            ],
            "type": "surface"
           }
          ],
          "table": [
           {
            "cells": {
             "fill": {
              "color": "#EBF0F8"
             },
             "line": {
              "color": "white"
             }
            },
            "header": {
             "fill": {
              "color": "#C8D4E3"
             },
             "line": {
              "color": "white"
             }
            },
            "type": "table"
           }
          ]
         },
         "layout": {
          "annotationdefaults": {
           "arrowcolor": "#2a3f5f",
           "arrowhead": 0,
           "arrowwidth": 1
          },
          "autotypenumbers": "strict",
          "coloraxis": {
           "colorbar": {
            "outlinewidth": 0,
            "ticks": ""
           }
          },
          "colorscale": {
           "diverging": [
            [
             0,
             "#8e0152"
            ],
            [
             0.1,
             "#c51b7d"
            ],
            [
             0.2,
             "#de77ae"
            ],
            [
             0.3,
             "#f1b6da"
            ],
            [
             0.4,
             "#fde0ef"
            ],
            [
             0.5,
             "#f7f7f7"
            ],
            [
             0.6,
             "#e6f5d0"
            ],
            [
             0.7,
             "#b8e186"
            ],
            [
             0.8,
             "#7fbc41"
            ],
            [
             0.9,
             "#4d9221"
            ],
            [
             1,
             "#276419"
            ]
           ],
           "sequential": [
            [
             0,
             "#0d0887"
            ],
            [
             0.1111111111111111,
             "#46039f"
            ],
            [
             0.2222222222222222,
             "#7201a8"
            ],
            [
             0.3333333333333333,
             "#9c179e"
            ],
            [
             0.4444444444444444,
             "#bd3786"
            ],
            [
             0.5555555555555556,
             "#d8576b"
            ],
            [
             0.6666666666666666,
             "#ed7953"
            ],
            [
             0.7777777777777778,
             "#fb9f3a"
            ],
            [
             0.8888888888888888,
             "#fdca26"
            ],
            [
             1,
             "#f0f921"
            ]
           ],
           "sequentialminus": [
            [
             0,
             "#0d0887"
            ],
            [
             0.1111111111111111,
             "#46039f"
            ],
            [
             0.2222222222222222,
             "#7201a8"
            ],
            [
             0.3333333333333333,
             "#9c179e"
            ],
            [
             0.4444444444444444,
             "#bd3786"
            ],
            [
             0.5555555555555556,
             "#d8576b"
            ],
            [
             0.6666666666666666,
             "#ed7953"
            ],
            [
             0.7777777777777778,
             "#fb9f3a"
            ],
            [
             0.8888888888888888,
             "#fdca26"
            ],
            [
             1,
             "#f0f921"
            ]
           ]
          },
          "colorway": [
           "#636efa",
           "#EF553B",
           "#00cc96",
           "#ab63fa",
           "#FFA15A",
           "#19d3f3",
           "#FF6692",
           "#B6E880",
           "#FF97FF",
           "#FECB52"
          ],
          "font": {
           "color": "#2a3f5f"
          },
          "geo": {
           "bgcolor": "white",
           "lakecolor": "white",
           "landcolor": "#E5ECF6",
           "showlakes": true,
           "showland": true,
           "subunitcolor": "white"
          },
          "hoverlabel": {
           "align": "left"
          },
          "hovermode": "closest",
          "mapbox": {
           "style": "light"
          },
          "paper_bgcolor": "white",
          "plot_bgcolor": "#E5ECF6",
          "polar": {
           "angularaxis": {
            "gridcolor": "white",
            "linecolor": "white",
            "ticks": ""
           },
           "bgcolor": "#E5ECF6",
           "radialaxis": {
            "gridcolor": "white",
            "linecolor": "white",
            "ticks": ""
           }
          },
          "scene": {
           "xaxis": {
            "backgroundcolor": "#E5ECF6",
            "gridcolor": "white",
            "gridwidth": 2,
            "linecolor": "white",
            "showbackground": true,
            "ticks": "",
            "zerolinecolor": "white"
           },
           "yaxis": {
            "backgroundcolor": "#E5ECF6",
            "gridcolor": "white",
            "gridwidth": 2,
            "linecolor": "white",
            "showbackground": true,
            "ticks": "",
            "zerolinecolor": "white"
           },
           "zaxis": {
            "backgroundcolor": "#E5ECF6",
            "gridcolor": "white",
            "gridwidth": 2,
            "linecolor": "white",
            "showbackground": true,
            "ticks": "",
            "zerolinecolor": "white"
           }
          },
          "shapedefaults": {
           "line": {
            "color": "#2a3f5f"
           }
          },
          "ternary": {
           "aaxis": {
            "gridcolor": "white",
            "linecolor": "white",
            "ticks": ""
           },
           "baxis": {
            "gridcolor": "white",
            "linecolor": "white",
            "ticks": ""
           },
           "bgcolor": "#E5ECF6",
           "caxis": {
            "gridcolor": "white",
            "linecolor": "white",
            "ticks": ""
           }
          },
          "title": {
           "x": 0.05
          },
          "xaxis": {
           "automargin": true,
           "gridcolor": "white",
           "linecolor": "white",
           "ticks": "",
           "title": {
            "standoff": 15
           },
           "zerolinecolor": "white",
           "zerolinewidth": 2
          },
          "yaxis": {
           "automargin": true,
           "gridcolor": "white",
           "linecolor": "white",
           "ticks": "",
           "title": {
            "standoff": 15
           },
           "zerolinecolor": "white",
           "zerolinewidth": 2
          }
         }
        },
        "title": {
         "text": "Optimization History Plot"
        },
        "xaxis": {
         "title": {
          "text": "Trial"
         }
        },
        "yaxis": {
         "title": {
          "text": "Objective Value"
         }
        }
       }
      }
     },
     "metadata": {},
     "output_type": "display_data"
    }
   ],
   "source": [
    "import plotly\n",
    "optuna.visualization.plot_optimization_history(study)"
   ]
  },
  {
   "cell_type": "code",
   "execution_count": 3,
   "metadata": {},
   "outputs": [
    {
     "data": {
      "application/vnd.plotly.v1+json": {
       "config": {
        "plotlyServerURL": "https://plot.ly"
       },
       "data": [
        {
         "marker": {
          "color": [
           0,
           1,
           2,
           3,
           4
          ],
          "colorbar": {
           "title": {
            "text": "Trial"
           },
           "x": 1,
           "xpad": 40
          },
          "colorscale": [
           [
            0,
            "rgb(247,251,255)"
           ],
           [
            0.125,
            "rgb(222,235,247)"
           ],
           [
            0.25,
            "rgb(198,219,239)"
           ],
           [
            0.375,
            "rgb(158,202,225)"
           ],
           [
            0.5,
            "rgb(107,174,214)"
           ],
           [
            0.625,
            "rgb(66,146,198)"
           ],
           [
            0.75,
            "rgb(33,113,181)"
           ],
           [
            0.875,
            "rgb(8,81,156)"
           ],
           [
            1,
            "rgb(8,48,107)"
           ]
          ],
          "line": {
           "color": "Grey",
           "width": 0.5
          },
          "showscale": true
         },
         "mode": "markers",
         "name": "Feasible Trial",
         "showlegend": false,
         "type": "scatter",
         "x": [
          0.25549339336102284,
          0.2274308559142771,
          0.48232457124827344,
          0.46882201614400026,
          0.2795510232854767
         ],
         "xaxis": "x",
         "y": [
          0.4578125,
          0.70078125,
          0.71875,
          0.6265625,
          0.82421875
         ],
         "yaxis": "y"
        },
        {
         "marker": {
          "color": [
           0,
           3
          ],
          "colorbar": {
           "title": {
            "text": "Trial"
           },
           "x": 1,
           "xpad": 40
          },
          "colorscale": [
           [
            0,
            "rgb(247,251,255)"
           ],
           [
            0.125,
            "rgb(222,235,247)"
           ],
           [
            0.25,
            "rgb(198,219,239)"
           ],
           [
            0.375,
            "rgb(158,202,225)"
           ],
           [
            0.5,
            "rgb(107,174,214)"
           ],
           [
            0.625,
            "rgb(66,146,198)"
           ],
           [
            0.75,
            "rgb(33,113,181)"
           ],
           [
            0.875,
            "rgb(8,81,156)"
           ],
           [
            1,
            "rgb(8,48,107)"
           ]
          ],
          "line": {
           "color": "Grey",
           "width": 0.5
          },
          "showscale": false
         },
         "mode": "markers",
         "name": "Feasible Trial",
         "showlegend": false,
         "type": "scatter",
         "x": [
          0.49656211917237564,
          0.24855497339227267
         ],
         "xaxis": "x2",
         "y": [
          0.4578125,
          0.6265625
         ],
         "yaxis": "y2"
        },
        {
         "marker": {
          "color": [
           0,
           3
          ],
          "colorbar": {
           "title": {
            "text": "Trial"
           },
           "x": 1,
           "xpad": 40
          },
          "colorscale": [
           [
            0,
            "rgb(247,251,255)"
           ],
           [
            0.125,
            "rgb(222,235,247)"
           ],
           [
            0.25,
            "rgb(198,219,239)"
           ],
           [
            0.375,
            "rgb(158,202,225)"
           ],
           [
            0.5,
            "rgb(107,174,214)"
           ],
           [
            0.625,
            "rgb(66,146,198)"
           ],
           [
            0.75,
            "rgb(33,113,181)"
           ],
           [
            0.875,
            "rgb(8,81,156)"
           ],
           [
            1,
            "rgb(8,48,107)"
           ]
          ],
          "line": {
           "color": "Grey",
           "width": 0.5
          },
          "showscale": false
         },
         "mode": "markers",
         "name": "Feasible Trial",
         "showlegend": false,
         "type": "scatter",
         "x": [
          0.25317175001585807,
          0.46004072242312655
         ],
         "xaxis": "x3",
         "y": [
          0.4578125,
          0.6265625
         ],
         "yaxis": "y3"
        },
        {
         "marker": {
          "color": [
           0,
           1,
           2,
           3,
           4
          ],
          "colorbar": {
           "title": {
            "text": "Trial"
           },
           "x": 1,
           "xpad": 40
          },
          "colorscale": [
           [
            0,
            "rgb(247,251,255)"
           ],
           [
            0.125,
            "rgb(222,235,247)"
           ],
           [
            0.25,
            "rgb(198,219,239)"
           ],
           [
            0.375,
            "rgb(158,202,225)"
           ],
           [
            0.5,
            "rgb(107,174,214)"
           ],
           [
            0.625,
            "rgb(66,146,198)"
           ],
           [
            0.75,
            "rgb(33,113,181)"
           ],
           [
            0.875,
            "rgb(8,81,156)"
           ],
           [
            1,
            "rgb(8,48,107)"
           ]
          ],
          "line": {
           "color": "Grey",
           "width": 0.5
          },
          "showscale": false
         },
         "mode": "markers",
         "name": "Feasible Trial",
         "showlegend": false,
         "type": "scatter",
         "x": [
          0.03832727259290079,
          0.024002382065435257,
          0.030770046657483032,
          0.0000907644023629897,
          0.0025627607615811387
         ],
         "xaxis": "x4",
         "y": [
          0.4578125,
          0.70078125,
          0.71875,
          0.6265625,
          0.82421875
         ],
         "yaxis": "y4"
        },
        {
         "marker": {
          "color": [
           0,
           1,
           2,
           3,
           4
          ],
          "colorbar": {
           "title": {
            "text": "Trial"
           },
           "x": 1,
           "xpad": 40
          },
          "colorscale": [
           [
            0,
            "rgb(247,251,255)"
           ],
           [
            0.125,
            "rgb(222,235,247)"
           ],
           [
            0.25,
            "rgb(198,219,239)"
           ],
           [
            0.375,
            "rgb(158,202,225)"
           ],
           [
            0.5,
            "rgb(107,174,214)"
           ],
           [
            0.625,
            "rgb(66,146,198)"
           ],
           [
            0.75,
            "rgb(33,113,181)"
           ],
           [
            0.875,
            "rgb(8,81,156)"
           ],
           [
            1,
            "rgb(8,48,107)"
           ]
          ],
          "line": {
           "color": "Grey",
           "width": 0.5
          },
          "showscale": false
         },
         "mode": "markers",
         "name": "Feasible Trial",
         "showlegend": false,
         "type": "scatter",
         "x": [
          3,
          1,
          1,
          3,
          1
         ],
         "xaxis": "x5",
         "y": [
          0.4578125,
          0.70078125,
          0.71875,
          0.6265625,
          0.82421875
         ],
         "yaxis": "y5"
        },
        {
         "marker": {
          "color": [
           0,
           1,
           2,
           3,
           4
          ],
          "colorbar": {
           "title": {
            "text": "Trial"
           },
           "x": 1,
           "xpad": 40
          },
          "colorscale": [
           [
            0,
            "rgb(247,251,255)"
           ],
           [
            0.125,
            "rgb(222,235,247)"
           ],
           [
            0.25,
            "rgb(198,219,239)"
           ],
           [
            0.375,
            "rgb(158,202,225)"
           ],
           [
            0.5,
            "rgb(107,174,214)"
           ],
           [
            0.625,
            "rgb(66,146,198)"
           ],
           [
            0.75,
            "rgb(33,113,181)"
           ],
           [
            0.875,
            "rgb(8,81,156)"
           ],
           [
            1,
            "rgb(8,48,107)"
           ]
          ],
          "line": {
           "color": "Grey",
           "width": 0.5
          },
          "showscale": false
         },
         "mode": "markers",
         "name": "Feasible Trial",
         "showlegend": false,
         "type": "scatter",
         "x": [
          79,
          112,
          109,
          79,
          89
         ],
         "xaxis": "x6",
         "y": [
          0.4578125,
          0.70078125,
          0.71875,
          0.6265625,
          0.82421875
         ],
         "yaxis": "y6"
        },
        {
         "marker": {
          "color": [
           0,
           3
          ],
          "colorbar": {
           "title": {
            "text": "Trial"
           },
           "x": 1,
           "xpad": 40
          },
          "colorscale": [
           [
            0,
            "rgb(247,251,255)"
           ],
           [
            0.125,
            "rgb(222,235,247)"
           ],
           [
            0.25,
            "rgb(198,219,239)"
           ],
           [
            0.375,
            "rgb(158,202,225)"
           ],
           [
            0.5,
            "rgb(107,174,214)"
           ],
           [
            0.625,
            "rgb(66,146,198)"
           ],
           [
            0.75,
            "rgb(33,113,181)"
           ],
           [
            0.875,
            "rgb(8,81,156)"
           ],
           [
            1,
            "rgb(8,48,107)"
           ]
          ],
          "line": {
           "color": "Grey",
           "width": 0.5
          },
          "showscale": false
         },
         "mode": "markers",
         "name": "Feasible Trial",
         "showlegend": false,
         "type": "scatter",
         "x": [
          114,
          65
         ],
         "xaxis": "x7",
         "y": [
          0.4578125,
          0.6265625
         ],
         "yaxis": "y7"
        },
        {
         "marker": {
          "color": [
           0,
           3
          ],
          "colorbar": {
           "title": {
            "text": "Trial"
           },
           "x": 1,
           "xpad": 40
          },
          "colorscale": [
           [
            0,
            "rgb(247,251,255)"
           ],
           [
            0.125,
            "rgb(222,235,247)"
           ],
           [
            0.25,
            "rgb(198,219,239)"
           ],
           [
            0.375,
            "rgb(158,202,225)"
           ],
           [
            0.5,
            "rgb(107,174,214)"
           ],
           [
            0.625,
            "rgb(66,146,198)"
           ],
           [
            0.75,
            "rgb(33,113,181)"
           ],
           [
            0.875,
            "rgb(8,81,156)"
           ],
           [
            1,
            "rgb(8,48,107)"
           ]
          ],
          "line": {
           "color": "Grey",
           "width": 0.5
          },
          "showscale": false
         },
         "mode": "markers",
         "name": "Feasible Trial",
         "showlegend": false,
         "type": "scatter",
         "x": [
          6,
          115
         ],
         "xaxis": "x8",
         "y": [
          0.4578125,
          0.6265625
         ],
         "yaxis": "y8"
        },
        {
         "marker": {
          "color": [
           0,
           1,
           2,
           3,
           4
          ],
          "colorbar": {
           "title": {
            "text": "Trial"
           },
           "x": 1,
           "xpad": 40
          },
          "colorscale": [
           [
            0,
            "rgb(247,251,255)"
           ],
           [
            0.125,
            "rgb(222,235,247)"
           ],
           [
            0.25,
            "rgb(198,219,239)"
           ],
           [
            0.375,
            "rgb(158,202,225)"
           ],
           [
            0.5,
            "rgb(107,174,214)"
           ],
           [
            0.625,
            "rgb(66,146,198)"
           ],
           [
            0.75,
            "rgb(33,113,181)"
           ],
           [
            0.875,
            "rgb(8,81,156)"
           ],
           [
            1,
            "rgb(8,48,107)"
           ]
          ],
          "line": {
           "color": "Grey",
           "width": 0.5
          },
          "showscale": false
         },
         "mode": "markers",
         "name": "Feasible Trial",
         "showlegend": false,
         "type": "scatter",
         "x": [
          "SGD",
          "SGD",
          "RMSprop",
          "RMSprop",
          "Adam"
         ],
         "xaxis": "x9",
         "y": [
          0.4578125,
          0.70078125,
          0.71875,
          0.6265625,
          0.82421875
         ],
         "yaxis": "y9"
        }
       ],
       "layout": {
        "template": {
         "data": {
          "bar": [
           {
            "error_x": {
             "color": "#2a3f5f"
            },
            "error_y": {
             "color": "#2a3f5f"
            },
            "marker": {
             "line": {
              "color": "#E5ECF6",
              "width": 0.5
             },
             "pattern": {
              "fillmode": "overlay",
              "size": 10,
              "solidity": 0.2
             }
            },
            "type": "bar"
           }
          ],
          "barpolar": [
           {
            "marker": {
             "line": {
              "color": "#E5ECF6",
              "width": 0.5
             },
             "pattern": {
              "fillmode": "overlay",
              "size": 10,
              "solidity": 0.2
             }
            },
            "type": "barpolar"
           }
          ],
          "carpet": [
           {
            "aaxis": {
             "endlinecolor": "#2a3f5f",
             "gridcolor": "white",
             "linecolor": "white",
             "minorgridcolor": "white",
             "startlinecolor": "#2a3f5f"
            },
            "baxis": {
             "endlinecolor": "#2a3f5f",
             "gridcolor": "white",
             "linecolor": "white",
             "minorgridcolor": "white",
             "startlinecolor": "#2a3f5f"
            },
            "type": "carpet"
           }
          ],
          "choropleth": [
           {
            "colorbar": {
             "outlinewidth": 0,
             "ticks": ""
            },
            "type": "choropleth"
           }
          ],
          "contour": [
           {
            "colorbar": {
             "outlinewidth": 0,
             "ticks": ""
            },
            "colorscale": [
             [
              0,
              "#0d0887"
             ],
             [
              0.1111111111111111,
              "#46039f"
             ],
             [
              0.2222222222222222,
              "#7201a8"
             ],
             [
              0.3333333333333333,
              "#9c179e"
             ],
             [
              0.4444444444444444,
              "#bd3786"
             ],
             [
              0.5555555555555556,
              "#d8576b"
             ],
             [
              0.6666666666666666,
              "#ed7953"
             ],
             [
              0.7777777777777778,
              "#fb9f3a"
             ],
             [
              0.8888888888888888,
              "#fdca26"
             ],
             [
              1,
              "#f0f921"
             ]
            ],
            "type": "contour"
           }
          ],
          "contourcarpet": [
           {
            "colorbar": {
             "outlinewidth": 0,
             "ticks": ""
            },
            "type": "contourcarpet"
           }
          ],
          "heatmap": [
           {
            "colorbar": {
             "outlinewidth": 0,
             "ticks": ""
            },
            "colorscale": [
             [
              0,
              "#0d0887"
             ],
             [
              0.1111111111111111,
              "#46039f"
             ],
             [
              0.2222222222222222,
              "#7201a8"
             ],
             [
              0.3333333333333333,
              "#9c179e"
             ],
             [
              0.4444444444444444,
              "#bd3786"
             ],
             [
              0.5555555555555556,
              "#d8576b"
             ],
             [
              0.6666666666666666,
              "#ed7953"
             ],
             [
              0.7777777777777778,
              "#fb9f3a"
             ],
             [
              0.8888888888888888,
              "#fdca26"
             ],
             [
              1,
              "#f0f921"
             ]
            ],
            "type": "heatmap"
           }
          ],
          "heatmapgl": [
           {
            "colorbar": {
             "outlinewidth": 0,
             "ticks": ""
            },
            "colorscale": [
             [
              0,
              "#0d0887"
             ],
             [
              0.1111111111111111,
              "#46039f"
             ],
             [
              0.2222222222222222,
              "#7201a8"
             ],
             [
              0.3333333333333333,
              "#9c179e"
             ],
             [
              0.4444444444444444,
              "#bd3786"
             ],
             [
              0.5555555555555556,
              "#d8576b"
             ],
             [
              0.6666666666666666,
              "#ed7953"
             ],
             [
              0.7777777777777778,
              "#fb9f3a"
             ],
             [
              0.8888888888888888,
              "#fdca26"
             ],
             [
              1,
              "#f0f921"
             ]
            ],
            "type": "heatmapgl"
           }
          ],
          "histogram": [
           {
            "marker": {
             "pattern": {
              "fillmode": "overlay",
              "size": 10,
              "solidity": 0.2
             }
            },
            "type": "histogram"
           }
          ],
          "histogram2d": [
           {
            "colorbar": {
             "outlinewidth": 0,
             "ticks": ""
            },
            "colorscale": [
             [
              0,
              "#0d0887"
             ],
             [
              0.1111111111111111,
              "#46039f"
             ],
             [
              0.2222222222222222,
              "#7201a8"
             ],
             [
              0.3333333333333333,
              "#9c179e"
             ],
             [
              0.4444444444444444,
              "#bd3786"
             ],
             [
              0.5555555555555556,
              "#d8576b"
             ],
             [
              0.6666666666666666,
              "#ed7953"
             ],
             [
              0.7777777777777778,
              "#fb9f3a"
             ],
             [
              0.8888888888888888,
              "#fdca26"
             ],
             [
              1,
              "#f0f921"
             ]
            ],
            "type": "histogram2d"
           }
          ],
          "histogram2dcontour": [
           {
            "colorbar": {
             "outlinewidth": 0,
             "ticks": ""
            },
            "colorscale": [
             [
              0,
              "#0d0887"
             ],
             [
              0.1111111111111111,
              "#46039f"
             ],
             [
              0.2222222222222222,
              "#7201a8"
             ],
             [
              0.3333333333333333,
              "#9c179e"
             ],
             [
              0.4444444444444444,
              "#bd3786"
             ],
             [
              0.5555555555555556,
              "#d8576b"
             ],
             [
              0.6666666666666666,
              "#ed7953"
             ],
             [
              0.7777777777777778,
              "#fb9f3a"
             ],
             [
              0.8888888888888888,
              "#fdca26"
             ],
             [
              1,
              "#f0f921"
             ]
            ],
            "type": "histogram2dcontour"
           }
          ],
          "mesh3d": [
           {
            "colorbar": {
             "outlinewidth": 0,
             "ticks": ""
            },
            "type": "mesh3d"
           }
          ],
          "parcoords": [
           {
            "line": {
             "colorbar": {
              "outlinewidth": 0,
              "ticks": ""
             }
            },
            "type": "parcoords"
           }
          ],
          "pie": [
           {
            "automargin": true,
            "type": "pie"
           }
          ],
          "scatter": [
           {
            "fillpattern": {
             "fillmode": "overlay",
             "size": 10,
             "solidity": 0.2
            },
            "type": "scatter"
           }
          ],
          "scatter3d": [
           {
            "line": {
             "colorbar": {
              "outlinewidth": 0,
              "ticks": ""
             }
            },
            "marker": {
             "colorbar": {
              "outlinewidth": 0,
              "ticks": ""
             }
            },
            "type": "scatter3d"
           }
          ],
          "scattercarpet": [
           {
            "marker": {
             "colorbar": {
              "outlinewidth": 0,
              "ticks": ""
             }
            },
            "type": "scattercarpet"
           }
          ],
          "scattergeo": [
           {
            "marker": {
             "colorbar": {
              "outlinewidth": 0,
              "ticks": ""
             }
            },
            "type": "scattergeo"
           }
          ],
          "scattergl": [
           {
            "marker": {
             "colorbar": {
              "outlinewidth": 0,
              "ticks": ""
             }
            },
            "type": "scattergl"
           }
          ],
          "scattermapbox": [
           {
            "marker": {
             "colorbar": {
              "outlinewidth": 0,
              "ticks": ""
             }
            },
            "type": "scattermapbox"
           }
          ],
          "scatterpolar": [
           {
            "marker": {
             "colorbar": {
              "outlinewidth": 0,
              "ticks": ""
             }
            },
            "type": "scatterpolar"
           }
          ],
          "scatterpolargl": [
           {
            "marker": {
             "colorbar": {
              "outlinewidth": 0,
              "ticks": ""
             }
            },
            "type": "scatterpolargl"
           }
          ],
          "scatterternary": [
           {
            "marker": {
             "colorbar": {
              "outlinewidth": 0,
              "ticks": ""
             }
            },
            "type": "scatterternary"
           }
          ],
          "surface": [
           {
            "colorbar": {
             "outlinewidth": 0,
             "ticks": ""
            },
            "colorscale": [
             [
              0,
              "#0d0887"
             ],
             [
              0.1111111111111111,
              "#46039f"
             ],
             [
              0.2222222222222222,
              "#7201a8"
             ],
             [
              0.3333333333333333,
              "#9c179e"
             ],
             [
              0.4444444444444444,
              "#bd3786"
             ],
             [
              0.5555555555555556,
              "#d8576b"
             ],
             [
              0.6666666666666666,
              "#ed7953"
             ],
             [
              0.7777777777777778,
              "#fb9f3a"
             ],
             [
              0.8888888888888888,
              "#fdca26"
             ],
             [
              1,
              "#f0f921"
             ]
            ],
            "type": "surface"
           }
          ],
          "table": [
           {
            "cells": {
             "fill": {
              "color": "#EBF0F8"
             },
             "line": {
              "color": "white"
             }
            },
            "header": {
             "fill": {
              "color": "#C8D4E3"
             },
             "line": {
              "color": "white"
             }
            },
            "type": "table"
           }
          ]
         },
         "layout": {
          "annotationdefaults": {
           "arrowcolor": "#2a3f5f",
           "arrowhead": 0,
           "arrowwidth": 1
          },
          "autotypenumbers": "strict",
          "coloraxis": {
           "colorbar": {
            "outlinewidth": 0,
            "ticks": ""
           }
          },
          "colorscale": {
           "diverging": [
            [
             0,
             "#8e0152"
            ],
            [
             0.1,
             "#c51b7d"
            ],
            [
             0.2,
             "#de77ae"
            ],
            [
             0.3,
             "#f1b6da"
            ],
            [
             0.4,
             "#fde0ef"
            ],
            [
             0.5,
             "#f7f7f7"
            ],
            [
             0.6,
             "#e6f5d0"
            ],
            [
             0.7,
             "#b8e186"
            ],
            [
             0.8,
             "#7fbc41"
            ],
            [
             0.9,
             "#4d9221"
            ],
            [
             1,
             "#276419"
            ]
           ],
           "sequential": [
            [
             0,
             "#0d0887"
            ],
            [
             0.1111111111111111,
             "#46039f"
            ],
            [
             0.2222222222222222,
             "#7201a8"
            ],
            [
             0.3333333333333333,
             "#9c179e"
            ],
            [
             0.4444444444444444,
             "#bd3786"
            ],
            [
             0.5555555555555556,
             "#d8576b"
            ],
            [
             0.6666666666666666,
             "#ed7953"
            ],
            [
             0.7777777777777778,
             "#fb9f3a"
            ],
            [
             0.8888888888888888,
             "#fdca26"
            ],
            [
             1,
             "#f0f921"
            ]
           ],
           "sequentialminus": [
            [
             0,
             "#0d0887"
            ],
            [
             0.1111111111111111,
             "#46039f"
            ],
            [
             0.2222222222222222,
             "#7201a8"
            ],
            [
             0.3333333333333333,
             "#9c179e"
            ],
            [
             0.4444444444444444,
             "#bd3786"
            ],
            [
             0.5555555555555556,
             "#d8576b"
            ],
            [
             0.6666666666666666,
             "#ed7953"
            ],
            [
             0.7777777777777778,
             "#fb9f3a"
            ],
            [
             0.8888888888888888,
             "#fdca26"
            ],
            [
             1,
             "#f0f921"
            ]
           ]
          },
          "colorway": [
           "#636efa",
           "#EF553B",
           "#00cc96",
           "#ab63fa",
           "#FFA15A",
           "#19d3f3",
           "#FF6692",
           "#B6E880",
           "#FF97FF",
           "#FECB52"
          ],
          "font": {
           "color": "#2a3f5f"
          },
          "geo": {
           "bgcolor": "white",
           "lakecolor": "white",
           "landcolor": "#E5ECF6",
           "showlakes": true,
           "showland": true,
           "subunitcolor": "white"
          },
          "hoverlabel": {
           "align": "left"
          },
          "hovermode": "closest",
          "mapbox": {
           "style": "light"
          },
          "paper_bgcolor": "white",
          "plot_bgcolor": "#E5ECF6",
          "polar": {
           "angularaxis": {
            "gridcolor": "white",
            "linecolor": "white",
            "ticks": ""
           },
           "bgcolor": "#E5ECF6",
           "radialaxis": {
            "gridcolor": "white",
            "linecolor": "white",
            "ticks": ""
           }
          },
          "scene": {
           "xaxis": {
            "backgroundcolor": "#E5ECF6",
            "gridcolor": "white",
            "gridwidth": 2,
            "linecolor": "white",
            "showbackground": true,
            "ticks": "",
            "zerolinecolor": "white"
           },
           "yaxis": {
            "backgroundcolor": "#E5ECF6",
            "gridcolor": "white",
            "gridwidth": 2,
            "linecolor": "white",
            "showbackground": true,
            "ticks": "",
            "zerolinecolor": "white"
           },
           "zaxis": {
            "backgroundcolor": "#E5ECF6",
            "gridcolor": "white",
            "gridwidth": 2,
            "linecolor": "white",
            "showbackground": true,
            "ticks": "",
            "zerolinecolor": "white"
           }
          },
          "shapedefaults": {
           "line": {
            "color": "#2a3f5f"
           }
          },
          "ternary": {
           "aaxis": {
            "gridcolor": "white",
            "linecolor": "white",
            "ticks": ""
           },
           "baxis": {
            "gridcolor": "white",
            "linecolor": "white",
            "ticks": ""
           },
           "bgcolor": "#E5ECF6",
           "caxis": {
            "gridcolor": "white",
            "linecolor": "white",
            "ticks": ""
           }
          },
          "title": {
           "x": 0.05
          },
          "xaxis": {
           "automargin": true,
           "gridcolor": "white",
           "linecolor": "white",
           "ticks": "",
           "title": {
            "standoff": 15
           },
           "zerolinecolor": "white",
           "zerolinewidth": 2
          },
          "yaxis": {
           "automargin": true,
           "gridcolor": "white",
           "linecolor": "white",
           "ticks": "",
           "title": {
            "standoff": 15
           },
           "zerolinecolor": "white",
           "zerolinewidth": 2
          }
         }
        },
        "title": {
         "text": "Slice Plot"
        },
        "width": 2700,
        "xaxis": {
         "anchor": "y",
         "domain": [
          0,
          0.09135802469135802
         ],
         "title": {
          "text": "dropout_l0"
         }
        },
        "xaxis2": {
         "anchor": "y2",
         "domain": [
          0.11358024691358025,
          0.20493827160493827
         ],
         "title": {
          "text": "dropout_l1"
         }
        },
        "xaxis3": {
         "anchor": "y3",
         "domain": [
          0.2271604938271605,
          0.31851851851851853
         ],
         "title": {
          "text": "dropout_l2"
         }
        },
        "xaxis4": {
         "anchor": "y4",
         "domain": [
          0.34074074074074073,
          0.43209876543209874
         ],
         "title": {
          "text": "lr"
         },
         "type": "log"
        },
        "xaxis5": {
         "anchor": "y5",
         "domain": [
          0.454320987654321,
          0.5456790123456791
         ],
         "title": {
          "text": "n_layers"
         }
        },
        "xaxis6": {
         "anchor": "y6",
         "domain": [
          0.5679012345679012,
          0.6592592592592592
         ],
         "title": {
          "text": "n_units_l0"
         }
        },
        "xaxis7": {
         "anchor": "y7",
         "domain": [
          0.6814814814814815,
          0.7728395061728395
         ],
         "title": {
          "text": "n_units_l1"
         }
        },
        "xaxis8": {
         "anchor": "y8",
         "domain": [
          0.7950617283950617,
          0.8864197530864197
         ],
         "title": {
          "text": "n_units_l2"
         }
        },
        "xaxis9": {
         "anchor": "y9",
         "categoryarray": [
          "Adam",
          "RMSprop",
          "SGD"
         ],
         "categoryorder": "array",
         "domain": [
          0.908641975308642,
          1
         ],
         "title": {
          "text": "optimizer"
         },
         "type": "category"
        },
        "yaxis": {
         "anchor": "x",
         "domain": [
          0,
          1
         ],
         "title": {
          "text": "Objective Value"
         }
        },
        "yaxis2": {
         "anchor": "x2",
         "domain": [
          0,
          1
         ],
         "matches": "y",
         "showticklabels": false
        },
        "yaxis3": {
         "anchor": "x3",
         "domain": [
          0,
          1
         ],
         "matches": "y",
         "showticklabels": false
        },
        "yaxis4": {
         "anchor": "x4",
         "domain": [
          0,
          1
         ],
         "matches": "y",
         "showticklabels": false
        },
        "yaxis5": {
         "anchor": "x5",
         "domain": [
          0,
          1
         ],
         "matches": "y",
         "showticklabels": false
        },
        "yaxis6": {
         "anchor": "x6",
         "domain": [
          0,
          1
         ],
         "matches": "y",
         "showticklabels": false
        },
        "yaxis7": {
         "anchor": "x7",
         "domain": [
          0,
          1
         ],
         "matches": "y",
         "showticklabels": false
        },
        "yaxis8": {
         "anchor": "x8",
         "domain": [
          0,
          1
         ],
         "matches": "y",
         "showticklabels": false
        },
        "yaxis9": {
         "anchor": "x9",
         "domain": [
          0,
          1
         ],
         "matches": "y",
         "showticklabels": false
        }
       }
      }
     },
     "metadata": {},
     "output_type": "display_data"
    }
   ],
   "source": [
    "optuna.visualization.plot_slice(study)"
   ]
  },
  {
   "cell_type": "code",
   "execution_count": null,
   "metadata": {},
   "outputs": [],
   "source": []
  }
 ],
 "metadata": {
  "kernelspec": {
   "display_name": "Python 3",
   "language": "python",
   "name": "python3"
  },
  "language_info": {
   "codemirror_mode": {
    "name": "ipython",
    "version": 3
   },
   "file_extension": ".py",
   "mimetype": "text/x-python",
   "name": "python",
   "nbconvert_exporter": "python",
   "pygments_lexer": "ipython3",
   "version": "3.10.4"
  },
  "orig_nbformat": 4
 },
 "nbformat": 4,
 "nbformat_minor": 2
}
